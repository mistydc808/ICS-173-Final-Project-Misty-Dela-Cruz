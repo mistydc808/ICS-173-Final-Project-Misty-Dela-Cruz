{
 "cells": [
  {
   "cell_type": "code",
   "execution_count": 1,
   "id": "eafd8623",
   "metadata": {
    "_cell_guid": "8799f71d-1dde-4c0c-81d0-6cc02de53580",
    "_uuid": "c18652a3-e8f1-48ed-86fb-263ffd22676f",
    "collapsed": false,
    "execution": {
     "iopub.execute_input": "2022-12-08T08:53:54.572392Z",
     "iopub.status.busy": "2022-12-08T08:53:54.571566Z",
     "iopub.status.idle": "2022-12-08T08:53:54.584392Z",
     "shell.execute_reply": "2022-12-08T08:53:54.583265Z"
    },
    "jupyter": {
     "outputs_hidden": false
    },
    "papermill": {
     "duration": 0.020817,
     "end_time": "2022-12-08T08:53:54.587243",
     "exception": false,
     "start_time": "2022-12-08T08:53:54.566426",
     "status": "completed"
    },
    "tags": []
   },
   "outputs": [],
   "source": [
    "# This Python 3 environment comes with many helpful analytics libraries installed\n",
    "# It is defined by the kaggle/python Docker image: https://github.com/kaggle/docker-python\n",
    "# For example, here's several helpful packages to load\n",
    "\n",
    "import numpy as np # linear algebra\n",
    "import pandas as pd # data processing, CSV file I/O (e.g. pd.read_csv)\n",
    "\n",
    "# Input data files are available in the read-only \"../input/\" directory\n",
    "# For example, running this (by clicking run or pressing Shift+Enter) will list all files under the input directory\n",
    "\n",
    "import os\n",
    "for dirname, _, filenames in os.walk('/kaggle/input'):\n",
    "    for filename in filenames:\n",
    "        print(os.path.join(dirname, filename))\n",
    "\n",
    "# You can write up to 20GB to the current directory (/kaggle/working/) that gets preserved as output when you create a version using \"Save & Run All\" \n",
    "# You can also write temporary files to /kaggle/temp/, but they won't be saved outside of the current session"
   ]
  },
  {
   "cell_type": "code",
   "execution_count": 2,
   "id": "aa28619c",
   "metadata": {
    "_cell_guid": "16f7e075-f53c-4a0f-b179-8bd7f1044507",
    "_uuid": "8ee1fb04-b177-4906-bf1d-69a236cf065d",
    "collapsed": false,
    "execution": {
     "iopub.execute_input": "2022-12-08T08:53:54.592426Z",
     "iopub.status.busy": "2022-12-08T08:53:54.592028Z",
     "iopub.status.idle": "2022-12-08T08:53:54.597111Z",
     "shell.execute_reply": "2022-12-08T08:53:54.595913Z"
    },
    "jupyter": {
     "outputs_hidden": false
    },
    "papermill": {
     "duration": 0.010313,
     "end_time": "2022-12-08T08:53:54.599601",
     "exception": false,
     "start_time": "2022-12-08T08:53:54.589288",
     "status": "completed"
    },
    "tags": []
   },
   "outputs": [],
   "source": [
    "# Code here for CSV file"
   ]
  }
 ],
 "metadata": {
  "kernelspec": {
   "display_name": "Python 3",
   "language": "python",
   "name": "python3"
  },
  "language_info": {
   "codemirror_mode": {
    "name": "ipython",
    "version": 3
   },
   "file_extension": ".py",
   "mimetype": "text/x-python",
   "name": "python",
   "nbconvert_exporter": "python",
   "pygments_lexer": "ipython3",
   "version": "3.7.12"
  },
  "papermill": {
   "default_parameters": {},
   "duration": 9.882714,
   "end_time": "2022-12-08T08:53:55.222452",
   "environment_variables": {},
   "exception": null,
   "input_path": "__notebook__.ipynb",
   "output_path": "__notebook__.ipynb",
   "parameters": {},
   "start_time": "2022-12-08T08:53:45.339738",
   "version": "2.3.4"
  }
 },
 "nbformat": 4,
 "nbformat_minor": 5
}
