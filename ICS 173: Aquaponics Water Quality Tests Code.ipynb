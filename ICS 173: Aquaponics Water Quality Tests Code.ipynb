{
 "cells": [
  {
   "cell_type": "code",
   "execution_count": 1,
   "id": "67cf675d",
   "metadata": {
    "_cell_guid": "8799f71d-1dde-4c0c-81d0-6cc02de53580",
    "_uuid": "c18652a3-e8f1-48ed-86fb-263ffd22676f",
    "collapsed": false,
    "execution": {
     "iopub.execute_input": "2022-12-14T11:38:42.949822Z",
     "iopub.status.busy": "2022-12-14T11:38:42.948965Z",
     "iopub.status.idle": "2022-12-14T11:38:44.102779Z",
     "shell.execute_reply": "2022-12-14T11:38:44.101708Z"
    },
    "jupyter": {
     "outputs_hidden": false
    },
    "papermill": {
     "duration": 1.160937,
     "end_time": "2022-12-14T11:38:44.105458",
     "exception": false,
     "start_time": "2022-12-14T11:38:42.944521",
     "status": "completed"
    },
    "tags": []
   },
   "outputs": [
    {
     "name": "stdout",
     "output_type": "stream",
     "text": [
      "Setup Complete\n",
      "/kaggle/input/aquaponic-water-quality-tests-2021/Aquaponics Water Quality Tests Data - Log 01_01_2021 - 12_31_2021.csv\n"
     ]
    }
   ],
   "source": [
    "# This Python 3 environment comes with many helpful analytics libraries installed\n",
    "# It is defined by the kaggle/python Docker image: https://github.com/kaggle/docker-python\n",
    "# For example, here's several helpful packages to load\n",
    "\n",
    "import numpy as np # linear algebra\n",
    "import pandas as pd # data processing, CSV file I/O (e.g. pd.read_csv)\n",
    "import pandas_datareader as pdr\n",
    "pd.plotting.register_matplotlib_converters()\n",
    "import matplotlib.pyplot as plt\n",
    "%matplotlib inline\n",
    "import seaborn as sns\n",
    "print(\"Setup Complete\")\n",
    "\n",
    "# Input data files are available in the read-only \"../input/\" directory\n",
    "# For example, running this (by clicking run or pressing Shift+Enter) will list all files under the input directory\n",
    "\n",
    "import os\n",
    "for dirname, _, filenames in os.walk('/kaggle/input'):\n",
    "    for filename in filenames:\n",
    "        print(os.path.join(dirname, filename))\n",
    "\n",
    "# You can write up to 20GB to the current directory (/kaggle/working/) that gets preserved as output when you create a version using \"Save & Run All\" \n",
    "# You can also write temporary files to /kaggle/temp/, but they won't be saved outside of the current session"
   ]
  },
  {
   "cell_type": "code",
   "execution_count": 2,
   "id": "628989be",
   "metadata": {
    "_cell_guid": "16f7e075-f53c-4a0f-b179-8bd7f1044507",
    "_uuid": "8ee1fb04-b177-4906-bf1d-69a236cf065d",
    "execution": {
     "iopub.execute_input": "2022-12-14T11:38:44.111801Z",
     "iopub.status.busy": "2022-12-14T11:38:44.111174Z",
     "iopub.status.idle": "2022-12-14T11:38:44.185575Z",
     "shell.execute_reply": "2022-12-14T11:38:44.184614Z"
    },
    "papermill": {
     "duration": 0.079634,
     "end_time": "2022-12-14T11:38:44.187558",
     "exception": false,
     "start_time": "2022-12-14T11:38:44.107924",
     "status": "completed"
    },
    "tags": []
   },
   "outputs": [
    {
     "data": {
      "text/html": [
       "<div>\n",
       "<style scoped>\n",
       "    .dataframe tbody tr th:only-of-type {\n",
       "        vertical-align: middle;\n",
       "    }\n",
       "\n",
       "    .dataframe tbody tr th {\n",
       "        vertical-align: top;\n",
       "    }\n",
       "\n",
       "    .dataframe thead th {\n",
       "        text-align: right;\n",
       "    }\n",
       "</style>\n",
       "<table border=\"1\" class=\"dataframe\">\n",
       "  <thead>\n",
       "    <tr style=\"text-align: right;\">\n",
       "      <th></th>\n",
       "      <th>Date:</th>\n",
       "      <th>pH:</th>\n",
       "    </tr>\n",
       "  </thead>\n",
       "  <tbody>\n",
       "    <tr>\n",
       "      <th>0</th>\n",
       "      <td>2021-05-03</td>\n",
       "      <td>7.0</td>\n",
       "    </tr>\n",
       "    <tr>\n",
       "      <th>1</th>\n",
       "      <td>2021-02-11</td>\n",
       "      <td>6.4</td>\n",
       "    </tr>\n",
       "    <tr>\n",
       "      <th>2</th>\n",
       "      <td>2021-09-18</td>\n",
       "      <td>7.6</td>\n",
       "    </tr>\n",
       "    <tr>\n",
       "      <th>3</th>\n",
       "      <td>2021-08-11</td>\n",
       "      <td>7.2</td>\n",
       "    </tr>\n",
       "    <tr>\n",
       "      <th>4</th>\n",
       "      <td>2021-08-20</td>\n",
       "      <td>7.6</td>\n",
       "    </tr>\n",
       "    <tr>\n",
       "      <th>5</th>\n",
       "      <td>2021-12-20</td>\n",
       "      <td>6.0</td>\n",
       "    </tr>\n",
       "    <tr>\n",
       "      <th>6</th>\n",
       "      <td>2021-04-01</td>\n",
       "      <td>7.0</td>\n",
       "    </tr>\n",
       "    <tr>\n",
       "      <th>7</th>\n",
       "      <td>2021-05-12</td>\n",
       "      <td>6.8</td>\n",
       "    </tr>\n",
       "    <tr>\n",
       "      <th>8</th>\n",
       "      <td>2021-07-10</td>\n",
       "      <td>7.0</td>\n",
       "    </tr>\n",
       "    <tr>\n",
       "      <th>9</th>\n",
       "      <td>2021-09-30</td>\n",
       "      <td>6.0</td>\n",
       "    </tr>\n",
       "    <tr>\n",
       "      <th>10</th>\n",
       "      <td>2021-07-01</td>\n",
       "      <td>7.2</td>\n",
       "    </tr>\n",
       "    <tr>\n",
       "      <th>11</th>\n",
       "      <td>2021-10-04</td>\n",
       "      <td>6.2</td>\n",
       "    </tr>\n",
       "    <tr>\n",
       "      <th>12</th>\n",
       "      <td>2021-09-09</td>\n",
       "      <td>7.2</td>\n",
       "    </tr>\n",
       "    <tr>\n",
       "      <th>13</th>\n",
       "      <td>2021-03-15</td>\n",
       "      <td>7.0</td>\n",
       "    </tr>\n",
       "    <tr>\n",
       "      <th>14</th>\n",
       "      <td>2021-10-29</td>\n",
       "      <td>6.0</td>\n",
       "    </tr>\n",
       "    <tr>\n",
       "      <th>15</th>\n",
       "      <td>2021-01-13</td>\n",
       "      <td>6.8</td>\n",
       "    </tr>\n",
       "    <tr>\n",
       "      <th>16</th>\n",
       "      <td>2021-10-25</td>\n",
       "      <td>6.0</td>\n",
       "    </tr>\n",
       "    <tr>\n",
       "      <th>17</th>\n",
       "      <td>2021-11-12</td>\n",
       "      <td>6.0</td>\n",
       "    </tr>\n",
       "    <tr>\n",
       "      <th>18</th>\n",
       "      <td>2021-05-09</td>\n",
       "      <td>6.8</td>\n",
       "    </tr>\n",
       "    <tr>\n",
       "      <th>19</th>\n",
       "      <td>2021-03-14</td>\n",
       "      <td>7.0</td>\n",
       "    </tr>\n",
       "    <tr>\n",
       "      <th>20</th>\n",
       "      <td>2021-05-18</td>\n",
       "      <td>6.8</td>\n",
       "    </tr>\n",
       "    <tr>\n",
       "      <th>21</th>\n",
       "      <td>2021-02-18</td>\n",
       "      <td>6.8</td>\n",
       "    </tr>\n",
       "    <tr>\n",
       "      <th>22</th>\n",
       "      <td>2021-04-02</td>\n",
       "      <td>7.0</td>\n",
       "    </tr>\n",
       "    <tr>\n",
       "      <th>23</th>\n",
       "      <td>2021-06-10</td>\n",
       "      <td>7.2</td>\n",
       "    </tr>\n",
       "    <tr>\n",
       "      <th>24</th>\n",
       "      <td>2021-12-11</td>\n",
       "      <td>6.0</td>\n",
       "    </tr>\n",
       "  </tbody>\n",
       "</table>\n",
       "</div>"
      ],
      "text/plain": [
       "        Date:  pH:\n",
       "0  2021-05-03  7.0\n",
       "1  2021-02-11  6.4\n",
       "2  2021-09-18  7.6\n",
       "3  2021-08-11  7.2\n",
       "4  2021-08-20  7.6\n",
       "5  2021-12-20  6.0\n",
       "6  2021-04-01  7.0\n",
       "7  2021-05-12  6.8\n",
       "8  2021-07-10  7.0\n",
       "9  2021-09-30  6.0\n",
       "10 2021-07-01  7.2\n",
       "11 2021-10-04  6.2\n",
       "12 2021-09-09  7.2\n",
       "13 2021-03-15  7.0\n",
       "14 2021-10-29  6.0\n",
       "15 2021-01-13  6.8\n",
       "16 2021-10-25  6.0\n",
       "17 2021-11-12  6.0\n",
       "18 2021-05-09  6.8\n",
       "19 2021-03-14  7.0\n",
       "20 2021-05-18  6.8\n",
       "21 2021-02-18  6.8\n",
       "22 2021-04-02  7.0\n",
       "23 2021-06-10  7.2\n",
       "24 2021-12-11  6.0"
      ]
     },
     "execution_count": 2,
     "metadata": {},
     "output_type": "execute_result"
    }
   ],
   "source": [
    "# Code here for CSV file\n",
    "water_quality_data_filepath = '../input/aquaponic-water-quality-tests-2021/Aquaponics Water Quality Tests Data - Log 01_01_2021 - 12_31_2021.csv'\n",
    "water_quality_data = pd.read_csv(water_quality_data_filepath, parse_dates=True)\n",
    "water_quality_data[\"Date:\"] = pd.to_datetime(water_quality_data[\"Date:\"])\n",
    "water_quality_data = water_quality_data[[\"Date:\", \"pH:\"]].sample(frac=1).head(25).reset_index(drop=True)\n",
    "water_quality_data"
   ]
  },
  {
   "cell_type": "code",
   "execution_count": 3,
   "id": "6954dc4c",
   "metadata": {
    "execution": {
     "iopub.execute_input": "2022-12-14T11:38:44.193388Z",
     "iopub.status.busy": "2022-12-14T11:38:44.192785Z",
     "iopub.status.idle": "2022-12-14T11:38:44.527639Z",
     "shell.execute_reply": "2022-12-14T11:38:44.526842Z"
    },
    "papermill": {
     "duration": 0.33988,
     "end_time": "2022-12-14T11:38:44.529555",
     "exception": false,
     "start_time": "2022-12-14T11:38:44.189675",
     "status": "completed"
    },
    "tags": []
   },
   "outputs": [
    {
     "data": {
      "text/plain": [
       "<function matplotlib.pyplot.show(close=None, block=None)>"
      ]
     },
     "execution_count": 3,
     "metadata": {},
     "output_type": "execute_result"
    },
    {
     "data": {
      "image/png": "[encoded data removed]",
      "text/plain": [
       "<Figure size 432x288 with 1 Axes>"
      ]
     },
     "metadata": {
      "needs_background": "light"
     },
     "output_type": "display_data"
    },
    {
     "data": {
      "text/plain": [
       "<Figure size 36000x1440 with 0 Axes>"
      ]
     },
     "metadata": {},
     "output_type": "display_data"
    }
   ],
   "source": [
    "ph = water_quality_data['pH:']\n",
    "date = water_quality_data['Date:']\n",
    "\n",
    "sns.lineplot(x=date, y=ph)\n",
    "plt.figure(figsize=(500,20))\n",
    "plt.show"
   ]
  }
 ],
 "metadata": {
  "kernelspec": {
   "display_name": "Python 3",
   "language": "python",
   "name": "python3"
  },
  "language_info": {
   "codemirror_mode": {
    "name": "ipython",
    "version": 3
   },
   "file_extension": ".py",
   "mimetype": "text/x-python",
   "name": "python",
   "nbconvert_exporter": "python",
   "pygments_lexer": "ipython3",
   "version": "3.7.12"
  },
  "papermill": {
   "default_parameters": {},
   "duration": 10.422267,
   "end_time": "2022-12-14T11:38:45.353692",
   "environment_variables": {},
   "exception": null,
   "input_path": "__notebook__.ipynb",
   "output_path": "__notebook__.ipynb",
   "parameters": {},
   "start_time": "2022-12-14T11:38:34.931425",
   "version": "2.3.4"
  }
 },
 "nbformat": 4,
 "nbformat_minor": 5
}
